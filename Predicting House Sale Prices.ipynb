{
 "cells": [
  {
   "cell_type": "markdown",
   "metadata": {
    "collapsed": true
   },
   "source": [
    "# Applying Linear Regression Model to Predict House Sale Prices in Ames, Iowa"
   ]
  },
  {
   "cell_type": "markdown",
   "metadata": {},
   "source": [
    "This project is a part of the Dataquest guided project. I also do further work and analysis on my own. The data used for this project is mentioned here https://www.tandfonline.com/doi/abs/10.1080/10691898.2011.11889627. The housing data is for Ames, Iowa from 2006 to 2010, and the information of individual columns containing in this dataset is explained here https://s3.amazonaws.com/dq-content/307/data_description.txt.\n",
    "\n",
    "This project aims to predict the sale prices of the houses in Ames, Iowa using the linear regression model."
   ]
  },
  {
   "cell_type": "code",
   "execution_count": 331,
   "metadata": {},
   "outputs": [],
   "source": [
    "import pandas as pd\n",
    "import numpy as np\n",
    "import matplotlib.pyplot as plt\n",
    "import seaborn as sns\n",
    "from sklearn.linear_model import LinearRegression\n",
    "from sklearn.metrics import mean_squared_error, accuracy_score\n",
    "from sklearn.model_selection import KFold\n",
    "\n",
    "%matplotlib inline"
   ]
  },
  {
   "cell_type": "markdown",
   "metadata": {},
   "source": [
    "## 1. Import the Dataset"
   ]
  },
  {
   "cell_type": "code",
   "execution_count": 332,
   "metadata": {},
   "outputs": [
    {
     "data": {
      "text/html": [
       "<div>\n",
       "<style scoped>\n",
       "    .dataframe tbody tr th:only-of-type {\n",
       "        vertical-align: middle;\n",
       "    }\n",
       "\n",
       "    .dataframe tbody tr th {\n",
       "        vertical-align: top;\n",
       "    }\n",
       "\n",
       "    .dataframe thead th {\n",
       "        text-align: right;\n",
       "    }\n",
       "</style>\n",
       "<table border=\"1\" class=\"dataframe\">\n",
       "  <thead>\n",
       "    <tr style=\"text-align: right;\">\n",
       "      <th></th>\n",
       "      <th>Order</th>\n",
       "      <th>PID</th>\n",
       "      <th>MS SubClass</th>\n",
       "      <th>MS Zoning</th>\n",
       "      <th>Lot Frontage</th>\n",
       "      <th>Lot Area</th>\n",
       "      <th>Street</th>\n",
       "      <th>Alley</th>\n",
       "      <th>Lot Shape</th>\n",
       "      <th>Land Contour</th>\n",
       "      <th>...</th>\n",
       "      <th>Pool Area</th>\n",
       "      <th>Pool QC</th>\n",
       "      <th>Fence</th>\n",
       "      <th>Misc Feature</th>\n",
       "      <th>Misc Val</th>\n",
       "      <th>Mo Sold</th>\n",
       "      <th>Yr Sold</th>\n",
       "      <th>Sale Type</th>\n",
       "      <th>Sale Condition</th>\n",
       "      <th>SalePrice</th>\n",
       "    </tr>\n",
       "  </thead>\n",
       "  <tbody>\n",
       "    <tr>\n",
       "      <th>0</th>\n",
       "      <td>1</td>\n",
       "      <td>526301100</td>\n",
       "      <td>20</td>\n",
       "      <td>RL</td>\n",
       "      <td>141.0</td>\n",
       "      <td>31770</td>\n",
       "      <td>Pave</td>\n",
       "      <td>NaN</td>\n",
       "      <td>IR1</td>\n",
       "      <td>Lvl</td>\n",
       "      <td>...</td>\n",
       "      <td>0</td>\n",
       "      <td>NaN</td>\n",
       "      <td>NaN</td>\n",
       "      <td>NaN</td>\n",
       "      <td>0</td>\n",
       "      <td>5</td>\n",
       "      <td>2010</td>\n",
       "      <td>WD</td>\n",
       "      <td>Normal</td>\n",
       "      <td>215000</td>\n",
       "    </tr>\n",
       "    <tr>\n",
       "      <th>1</th>\n",
       "      <td>2</td>\n",
       "      <td>526350040</td>\n",
       "      <td>20</td>\n",
       "      <td>RH</td>\n",
       "      <td>80.0</td>\n",
       "      <td>11622</td>\n",
       "      <td>Pave</td>\n",
       "      <td>NaN</td>\n",
       "      <td>Reg</td>\n",
       "      <td>Lvl</td>\n",
       "      <td>...</td>\n",
       "      <td>0</td>\n",
       "      <td>NaN</td>\n",
       "      <td>MnPrv</td>\n",
       "      <td>NaN</td>\n",
       "      <td>0</td>\n",
       "      <td>6</td>\n",
       "      <td>2010</td>\n",
       "      <td>WD</td>\n",
       "      <td>Normal</td>\n",
       "      <td>105000</td>\n",
       "    </tr>\n",
       "    <tr>\n",
       "      <th>2</th>\n",
       "      <td>3</td>\n",
       "      <td>526351010</td>\n",
       "      <td>20</td>\n",
       "      <td>RL</td>\n",
       "      <td>81.0</td>\n",
       "      <td>14267</td>\n",
       "      <td>Pave</td>\n",
       "      <td>NaN</td>\n",
       "      <td>IR1</td>\n",
       "      <td>Lvl</td>\n",
       "      <td>...</td>\n",
       "      <td>0</td>\n",
       "      <td>NaN</td>\n",
       "      <td>NaN</td>\n",
       "      <td>Gar2</td>\n",
       "      <td>12500</td>\n",
       "      <td>6</td>\n",
       "      <td>2010</td>\n",
       "      <td>WD</td>\n",
       "      <td>Normal</td>\n",
       "      <td>172000</td>\n",
       "    </tr>\n",
       "    <tr>\n",
       "      <th>3</th>\n",
       "      <td>4</td>\n",
       "      <td>526353030</td>\n",
       "      <td>20</td>\n",
       "      <td>RL</td>\n",
       "      <td>93.0</td>\n",
       "      <td>11160</td>\n",
       "      <td>Pave</td>\n",
       "      <td>NaN</td>\n",
       "      <td>Reg</td>\n",
       "      <td>Lvl</td>\n",
       "      <td>...</td>\n",
       "      <td>0</td>\n",
       "      <td>NaN</td>\n",
       "      <td>NaN</td>\n",
       "      <td>NaN</td>\n",
       "      <td>0</td>\n",
       "      <td>4</td>\n",
       "      <td>2010</td>\n",
       "      <td>WD</td>\n",
       "      <td>Normal</td>\n",
       "      <td>244000</td>\n",
       "    </tr>\n",
       "    <tr>\n",
       "      <th>4</th>\n",
       "      <td>5</td>\n",
       "      <td>527105010</td>\n",
       "      <td>60</td>\n",
       "      <td>RL</td>\n",
       "      <td>74.0</td>\n",
       "      <td>13830</td>\n",
       "      <td>Pave</td>\n",
       "      <td>NaN</td>\n",
       "      <td>IR1</td>\n",
       "      <td>Lvl</td>\n",
       "      <td>...</td>\n",
       "      <td>0</td>\n",
       "      <td>NaN</td>\n",
       "      <td>MnPrv</td>\n",
       "      <td>NaN</td>\n",
       "      <td>0</td>\n",
       "      <td>3</td>\n",
       "      <td>2010</td>\n",
       "      <td>WD</td>\n",
       "      <td>Normal</td>\n",
       "      <td>189900</td>\n",
       "    </tr>\n",
       "  </tbody>\n",
       "</table>\n",
       "<p>5 rows × 82 columns</p>\n",
       "</div>"
      ],
      "text/plain": [
       "   Order        PID  MS SubClass MS Zoning  Lot Frontage  Lot Area Street  \\\n",
       "0      1  526301100           20        RL         141.0     31770   Pave   \n",
       "1      2  526350040           20        RH          80.0     11622   Pave   \n",
       "2      3  526351010           20        RL          81.0     14267   Pave   \n",
       "3      4  526353030           20        RL          93.0     11160   Pave   \n",
       "4      5  527105010           60        RL          74.0     13830   Pave   \n",
       "\n",
       "  Alley Lot Shape Land Contour  ... Pool Area Pool QC  Fence Misc Feature  \\\n",
       "0   NaN       IR1          Lvl  ...         0     NaN    NaN          NaN   \n",
       "1   NaN       Reg          Lvl  ...         0     NaN  MnPrv          NaN   \n",
       "2   NaN       IR1          Lvl  ...         0     NaN    NaN         Gar2   \n",
       "3   NaN       Reg          Lvl  ...         0     NaN    NaN          NaN   \n",
       "4   NaN       IR1          Lvl  ...         0     NaN  MnPrv          NaN   \n",
       "\n",
       "  Misc Val Mo Sold Yr Sold Sale Type  Sale Condition  SalePrice  \n",
       "0        0       5    2010       WD           Normal     215000  \n",
       "1        0       6    2010       WD           Normal     105000  \n",
       "2    12500       6    2010       WD           Normal     172000  \n",
       "3        0       4    2010       WD           Normal     244000  \n",
       "4        0       3    2010       WD           Normal     189900  \n",
       "\n",
       "[5 rows x 82 columns]"
      ]
     },
     "execution_count": 332,
     "metadata": {},
     "output_type": "execute_result"
    }
   ],
   "source": [
    "ames = pd.read_csv(\"AmesHousing.tsv\", sep = '\\t')\n",
    "ames.head()"
   ]
  },
  {
   "cell_type": "markdown",
   "metadata": {},
   "source": [
    "## 2. Feature Engineering"
   ]
  },
  {
   "cell_type": "markdown",
   "metadata": {},
   "source": [
    "### 2.1 Drop the columns with > 5% missing values\n"
   ]
  },
  {
   "cell_type": "code",
   "execution_count": 333,
   "metadata": {},
   "outputs": [
    {
     "data": {
      "text/plain": [
       "Lot Frontage     16.723549\n",
       "Alley            93.242321\n",
       "Fireplace Qu     48.532423\n",
       "Garage Type       5.358362\n",
       "Garage Yr Blt     5.426621\n",
       "Garage Finish     5.426621\n",
       "Garage Qual       5.426621\n",
       "Garage Cond       5.426621\n",
       "Pool QC          99.556314\n",
       "Fence            80.477816\n",
       "Misc Feature     96.382253\n",
       "dtype: float64"
      ]
     },
     "execution_count": 333,
     "metadata": {},
     "output_type": "execute_result"
    }
   ],
   "source": [
    "ames_null = ames.isnull().sum()*100/len(ames)\n",
    "ames_5pct_null = ames_null[ames_null > 5]\n",
    "ames_5pct_null\n"
   ]
  },
  {
   "cell_type": "code",
   "execution_count": 334,
   "metadata": {},
   "outputs": [
    {
     "data": {
      "text/plain": [
       "Index(['Order', 'PID', 'MS SubClass', 'MS Zoning', 'Lot Area', 'Street',\n",
       "       'Lot Shape', 'Land Contour', 'Utilities', 'Lot Config', 'Land Slope',\n",
       "       'Neighborhood', 'Condition 1', 'Condition 2', 'Bldg Type',\n",
       "       'House Style', 'Overall Qual', 'Overall Cond', 'Year Built',\n",
       "       'Year Remod/Add', 'Roof Style', 'Roof Matl', 'Exterior 1st',\n",
       "       'Exterior 2nd', 'Mas Vnr Type', 'Mas Vnr Area', 'Exter Qual',\n",
       "       'Exter Cond', 'Foundation', 'Bsmt Qual', 'Bsmt Cond', 'Bsmt Exposure',\n",
       "       'BsmtFin Type 1', 'BsmtFin SF 1', 'BsmtFin Type 2', 'BsmtFin SF 2',\n",
       "       'Bsmt Unf SF', 'Total Bsmt SF', 'Heating', 'Heating QC', 'Central Air',\n",
       "       'Electrical', '1st Flr SF', '2nd Flr SF', 'Low Qual Fin SF',\n",
       "       'Gr Liv Area', 'Bsmt Full Bath', 'Bsmt Half Bath', 'Full Bath',\n",
       "       'Half Bath', 'Bedroom AbvGr', 'Kitchen AbvGr', 'Kitchen Qual',\n",
       "       'TotRms AbvGrd', 'Functional', 'Fireplaces', 'Garage Cars',\n",
       "       'Garage Area', 'Paved Drive', 'Wood Deck SF', 'Open Porch SF',\n",
       "       'Enclosed Porch', '3Ssn Porch', 'Screen Porch', 'Pool Area', 'Misc Val',\n",
       "       'Mo Sold', 'Yr Sold', 'Sale Type', 'Sale Condition', 'SalePrice'],\n",
       "      dtype='object')"
      ]
     },
     "execution_count": 334,
     "metadata": {},
     "output_type": "execute_result"
    }
   ],
   "source": [
    "ames.drop(columns=ames_5pct_null.index, inplace=True)\n",
    "ames.columns"
   ]
  },
  {
   "cell_type": "markdown",
   "metadata": {},
   "source": [
    "### 2.2 Drop any text columns with 1 or more missing values"
   ]
  },
  {
   "cell_type": "code",
   "execution_count": 335,
   "metadata": {},
   "outputs": [
    {
     "data": {
      "text/plain": [
       "Mas Vnr Type      23\n",
       "Bsmt Qual         80\n",
       "Bsmt Cond         80\n",
       "Bsmt Exposure     83\n",
       "BsmtFin Type 1    80\n",
       "BsmtFin Type 2    81\n",
       "Electrical         1\n",
       "dtype: int64"
      ]
     },
     "execution_count": 335,
     "metadata": {},
     "output_type": "execute_result"
    }
   ],
   "source": [
    "text_col_null = ames.select_dtypes(include = ['object']).isnull().sum()\n",
    "text_col_null = text_col_null[text_col_null > 0]\n",
    "text_col_null"
   ]
  },
  {
   "cell_type": "code",
   "execution_count": 336,
   "metadata": {},
   "outputs": [],
   "source": [
    "ames.drop(columns=text_col_null.index, inplace=True)"
   ]
  },
  {
   "cell_type": "markdown",
   "metadata": {},
   "source": [
    "### 2.3 Replace null values in any numerical columns with the most common value for that column"
   ]
  },
  {
   "cell_type": "code",
   "execution_count": 337,
   "metadata": {},
   "outputs": [
    {
     "data": {
      "text/plain": [
       "Index(['Mas Vnr Area', 'BsmtFin SF 1', 'BsmtFin SF 2', 'Bsmt Unf SF',\n",
       "       'Total Bsmt SF', 'Bsmt Full Bath', 'Bsmt Half Bath', 'Garage Cars',\n",
       "       'Garage Area'],\n",
       "      dtype='object')"
      ]
     },
     "execution_count": 337,
     "metadata": {},
     "output_type": "execute_result"
    }
   ],
   "source": [
    "numerical_col = ames.select_dtypes(include = ['int', 'float'])\n",
    "numerical_null_col = ames.isnull().sum() > 0\n",
    "numerical_null_col = numerical_null_col[numerical_null_col]\n",
    "numerical_null_col.index"
   ]
  },
  {
   "cell_type": "code",
   "execution_count": 338,
   "metadata": {},
   "outputs": [],
   "source": [
    "for col in numerical_null_col.index:\n",
    "    ames[col].fillna(ames[col].mode()[0], inplace=True)"
   ]
  },
  {
   "cell_type": "code",
   "execution_count": 339,
   "metadata": {},
   "outputs": [
    {
     "data": {
      "text/plain": [
       "0    64\n",
       "dtype: int64"
      ]
     },
     "execution_count": 339,
     "metadata": {},
     "output_type": "execute_result"
    }
   ],
   "source": [
    "# check if any columns with null\n",
    "ames.isnull().sum().value_counts()"
   ]
  },
  {
   "cell_type": "markdown",
   "metadata": {},
   "source": [
    "### 2.4 Create new feature that better capture the information in the existing features"
   ]
  },
  {
   "cell_type": "code",
   "execution_count": 340,
   "metadata": {},
   "outputs": [],
   "source": [
    "# years sold after remodify the houses: this value will be calculated from the differences between 'Yr Sold' and 'Year Remod/Add' columns.\n",
    "ames['years_after_remod'] = ames['Yr Sold'] - ames['Year Remod/Add']\n",
    "\n",
    "# drop the column with negative years after remodify\n",
    "ames.drop(ames[ames['years_after_remod'] < 0].index, inplace = True)\n"
   ]
  },
  {
   "cell_type": "code",
   "execution_count": 341,
   "metadata": {},
   "outputs": [],
   "source": [
    "# years that the houses were sold after they were built\n",
    "ames['years_bf_sale'] = ames['Yr Sold'] - ames['Year Built']\n",
    "\n",
    "# drop the column with negaitive years before sale\n",
    "ames.drop(ames[ames['years_bf_sale'] < 0].index, inplace = True)\n"
   ]
  },
  {
   "cell_type": "code",
   "execution_count": 342,
   "metadata": {},
   "outputs": [],
   "source": [
    "# remove original year columns since we do not need them anymore\n",
    "ames.drop(columns=['Year Remod/Add','Year Built', 'Yr Sold'], inplace=True)"
   ]
  },
  {
   "cell_type": "markdown",
   "metadata": {},
   "source": [
    "### 2.5 Remove unnecessary columns"
   ]
  },
  {
   "cell_type": "code",
   "execution_count": 343,
   "metadata": {},
   "outputs": [],
   "source": [
    "# drop columns that are not useful or do not provide any information\n",
    "ames.drop(columns = ['Order', 'PID'], inplace = True)"
   ]
  },
  {
   "cell_type": "code",
   "execution_count": 344,
   "metadata": {},
   "outputs": [],
   "source": [
    "# drop data that are related to the final sale\n",
    "ames.drop(columns = ['Mo Sold', 'Sale Type', 'Sale Condition'], inplace = True)"
   ]
  },
  {
   "cell_type": "markdown",
   "metadata": {},
   "source": [
    "## 3. Feature Selection"
   ]
  },
  {
   "cell_type": "markdown",
   "metadata": {},
   "source": [
    "### 3.1 Correlation between numerical features and Sale Prices"
   ]
  },
  {
   "cell_type": "code",
   "execution_count": 345,
   "metadata": {},
   "outputs": [],
   "source": [
    "numerical_cols = ames.select_dtypes(include = ['int', 'float'])\n",
    "numerical_cols_corr = numerical_cols.corr()"
   ]
  },
  {
   "cell_type": "code",
   "execution_count": 346,
   "metadata": {},
   "outputs": [
    {
     "data": {
      "image/png": "[encoded data removed]",
      "text/plain": [
       "<Figure size 720x504 with 2 Axes>"
      ]
     },
     "metadata": {
      "needs_background": "light"
     },
     "output_type": "display_data"
    }
   ],
   "source": [
    "plt.figure(figsize=(10,7))\n",
    "sns.heatmap(numerical_cols_corr)\n",
    "plt.show()"
   ]
  },
  {
   "cell_type": "markdown",
   "metadata": {},
   "source": [
    "The Price Sale column has strong correlations with Overall Qual and Gr Liv Area columns."
   ]
  },
  {
   "cell_type": "code",
   "execution_count": 347,
   "metadata": {},
   "outputs": [
    {
     "data": {
      "text/plain": [
       "BsmtFin SF 2         0.006127\n",
       "Misc Val             0.019273\n",
       "3Ssn Porch           0.032268\n",
       "Bsmt Half Bath       0.035875\n",
       "Low Qual Fin SF      0.037629\n",
       "Pool Area            0.068438\n",
       "MS SubClass          0.085128\n",
       "Overall Cond         0.101540\n",
       "Screen Porch         0.112280\n",
       "Kitchen AbvGr        0.119760\n",
       "Enclosed Porch       0.128685\n",
       "Bedroom AbvGr        0.143916\n",
       "Bsmt Unf SF          0.182751\n",
       "Lot Area             0.267520\n",
       "2nd Flr SF           0.269601\n",
       "Bsmt Full Bath       0.276258\n",
       "Half Bath            0.284871\n",
       "Open Porch SF        0.316262\n",
       "Wood Deck SF         0.328183\n",
       "BsmtFin SF 1         0.439284\n",
       "Fireplaces           0.474831\n",
       "TotRms AbvGrd        0.498574\n",
       "Mas Vnr Area         0.506983\n",
       "years_after_remod    0.534985\n",
       "Full Bath            0.546118\n",
       "years_bf_sale        0.558979\n",
       "1st Flr SF           0.635185\n",
       "Garage Area          0.641425\n",
       "Total Bsmt SF        0.644012\n",
       "Garage Cars          0.648361\n",
       "Gr Liv Area          0.717596\n",
       "Overall Qual         0.801206\n",
       "SalePrice            1.000000\n",
       "Name: SalePrice, dtype: float64"
      ]
     },
     "execution_count": 347,
     "metadata": {},
     "output_type": "execute_result"
    }
   ],
   "source": [
    "numerical_saleprice_corr = numerical_cols.corr()['SalePrice'].abs().sort_values()\n",
    "numerical_saleprice_corr"
   ]
  },
  {
   "cell_type": "code",
   "execution_count": 348,
   "metadata": {},
   "outputs": [],
   "source": [
    "# drop columns with the correlation < 0.4 (arbitary value)\n",
    "ames.drop(columns = numerical_saleprice_corr[numerical_saleprice_corr < 0.4].index, inplace = True)"
   ]
  },
  {
   "cell_type": "markdown",
   "metadata": {},
   "source": [
    "### 3.2 Convert the columns of nominal variables to categorical"
   ]
  },
  {
   "cell_type": "code",
   "execution_count": 349,
   "metadata": {},
   "outputs": [],
   "source": [
    "obj_columns = ames.select_dtypes(include = 'object')"
   ]
  },
  {
   "cell_type": "markdown",
   "metadata": {},
   "source": [
    "Before the conversion, we need to find number of unique values for each column. If the number of unique values is more than 10 (an arbitary number and you can change this to other number), we will drop that column since later on after converting these columns to catgories, there will be too many columns adding to our data."
   ]
  },
  {
   "cell_type": "code",
   "execution_count": 350,
   "metadata": {},
   "outputs": [],
   "source": [
    "obj_col_unique = {}\n",
    "for col in obj_columns.columns:\n",
    "    unique_vals = ames[col].unique()\n",
    "    obj_col_unique[col] = len(unique_vals)\n",
    "\n",
    "# find the columns with unique values > 10\n",
    "drop_cols = []\n",
    "for col, num in obj_col_unique.items():\n",
    "    if num > 10:\n",
    "        drop_cols.append(col)"
   ]
  },
  {
   "cell_type": "code",
   "execution_count": 351,
   "metadata": {},
   "outputs": [],
   "source": [
    "# drop the columns with unique value > 10\n",
    "ames.drop(columns = drop_cols, inplace = True)"
   ]
  },
  {
   "cell_type": "markdown",
   "metadata": {},
   "source": [
    "Next step before the conversion is to (1) find whether there is any column with more than 95% of the values of that column belong to a certain category, and (2) drop that column. The reason why we drop this type of column is because there will be no or less variability in the data for the model to capture."
   ]
  },
  {
   "cell_type": "code",
   "execution_count": 352,
   "metadata": {},
   "outputs": [],
   "source": [
    "nominal = ames.select_dtypes(include = 'object')"
   ]
  },
  {
   "cell_type": "code",
   "execution_count": 353,
   "metadata": {},
   "outputs": [],
   "source": [
    "nominal_unique_pct = {}\n",
    "for col in nominal.columns:\n",
    "    nominal_unique_pct[col] = nominal[col].value_counts(normalize=True).values\n",
    "\n",
    "# Find the columns with less variability or 95% of the values is in a specific category\n",
    "drop_cols = []\n",
    "for col, vals in nominal_unique_pct.items():\n",
    "    max_pct = max(vals)\n",
    "    if max_pct > 0.95:\n",
    "        drop_cols.append(col)"
   ]
  },
  {
   "cell_type": "code",
   "execution_count": 354,
   "metadata": {},
   "outputs": [],
   "source": [
    "# drop the columns\n",
    "ames.drop(columns = drop_cols, inplace = True)"
   ]
  },
  {
   "cell_type": "markdown",
   "metadata": {},
   "source": [
    "Next, let's convert the nominal columns to categorical."
   ]
  },
  {
   "cell_type": "code",
   "execution_count": 355,
   "metadata": {},
   "outputs": [],
   "source": [
    "nominal_cols = ames.select_dtypes(include = 'object')\n",
    "\n",
    "for col in nominal_cols.columns:\n",
    "    ames[col] = ames[col].astype('category')\n",
    "\n",
    "# concatenate the dummy columns back to ames and delete the original columns\n",
    "for col in nominal_cols.columns:\n",
    "    ames = pd.concat([ames, pd.get_dummies(ames[col])], axis = 1)\n",
    "    del ames[col]"
   ]
  },
  {
   "cell_type": "code",
   "execution_count": 356,
   "metadata": {},
   "outputs": [
    {
     "data": {
      "text/html": [
       "<div>\n",
       "<style scoped>\n",
       "    .dataframe tbody tr th:only-of-type {\n",
       "        vertical-align: middle;\n",
       "    }\n",
       "\n",
       "    .dataframe tbody tr th {\n",
       "        vertical-align: top;\n",
       "    }\n",
       "\n",
       "    .dataframe thead th {\n",
       "        text-align: right;\n",
       "    }\n",
       "</style>\n",
       "<table border=\"1\" class=\"dataframe\">\n",
       "  <thead>\n",
       "    <tr style=\"text-align: right;\">\n",
       "      <th></th>\n",
       "      <th>Overall Qual</th>\n",
       "      <th>Mas Vnr Area</th>\n",
       "      <th>BsmtFin SF 1</th>\n",
       "      <th>Total Bsmt SF</th>\n",
       "      <th>1st Flr SF</th>\n",
       "      <th>Gr Liv Area</th>\n",
       "      <th>Full Bath</th>\n",
       "      <th>TotRms AbvGrd</th>\n",
       "      <th>Fireplaces</th>\n",
       "      <th>Garage Cars</th>\n",
       "      <th>...</th>\n",
       "      <th>Maj2</th>\n",
       "      <th>Min1</th>\n",
       "      <th>Min2</th>\n",
       "      <th>Mod</th>\n",
       "      <th>Sal</th>\n",
       "      <th>Sev</th>\n",
       "      <th>Typ</th>\n",
       "      <th>N</th>\n",
       "      <th>P</th>\n",
       "      <th>Y</th>\n",
       "    </tr>\n",
       "  </thead>\n",
       "  <tbody>\n",
       "    <tr>\n",
       "      <th>0</th>\n",
       "      <td>6</td>\n",
       "      <td>112.0</td>\n",
       "      <td>639.0</td>\n",
       "      <td>1080.0</td>\n",
       "      <td>1656</td>\n",
       "      <td>1656</td>\n",
       "      <td>1</td>\n",
       "      <td>7</td>\n",
       "      <td>2</td>\n",
       "      <td>2.0</td>\n",
       "      <td>...</td>\n",
       "      <td>0</td>\n",
       "      <td>0</td>\n",
       "      <td>0</td>\n",
       "      <td>0</td>\n",
       "      <td>0</td>\n",
       "      <td>0</td>\n",
       "      <td>1</td>\n",
       "      <td>0</td>\n",
       "      <td>1</td>\n",
       "      <td>0</td>\n",
       "    </tr>\n",
       "    <tr>\n",
       "      <th>1</th>\n",
       "      <td>5</td>\n",
       "      <td>0.0</td>\n",
       "      <td>468.0</td>\n",
       "      <td>882.0</td>\n",
       "      <td>896</td>\n",
       "      <td>896</td>\n",
       "      <td>1</td>\n",
       "      <td>5</td>\n",
       "      <td>0</td>\n",
       "      <td>1.0</td>\n",
       "      <td>...</td>\n",
       "      <td>0</td>\n",
       "      <td>0</td>\n",
       "      <td>0</td>\n",
       "      <td>0</td>\n",
       "      <td>0</td>\n",
       "      <td>0</td>\n",
       "      <td>1</td>\n",
       "      <td>0</td>\n",
       "      <td>0</td>\n",
       "      <td>1</td>\n",
       "    </tr>\n",
       "    <tr>\n",
       "      <th>2</th>\n",
       "      <td>6</td>\n",
       "      <td>108.0</td>\n",
       "      <td>923.0</td>\n",
       "      <td>1329.0</td>\n",
       "      <td>1329</td>\n",
       "      <td>1329</td>\n",
       "      <td>1</td>\n",
       "      <td>6</td>\n",
       "      <td>0</td>\n",
       "      <td>1.0</td>\n",
       "      <td>...</td>\n",
       "      <td>0</td>\n",
       "      <td>0</td>\n",
       "      <td>0</td>\n",
       "      <td>0</td>\n",
       "      <td>0</td>\n",
       "      <td>0</td>\n",
       "      <td>1</td>\n",
       "      <td>0</td>\n",
       "      <td>0</td>\n",
       "      <td>1</td>\n",
       "    </tr>\n",
       "    <tr>\n",
       "      <th>3</th>\n",
       "      <td>7</td>\n",
       "      <td>0.0</td>\n",
       "      <td>1065.0</td>\n",
       "      <td>2110.0</td>\n",
       "      <td>2110</td>\n",
       "      <td>2110</td>\n",
       "      <td>2</td>\n",
       "      <td>8</td>\n",
       "      <td>2</td>\n",
       "      <td>2.0</td>\n",
       "      <td>...</td>\n",
       "      <td>0</td>\n",
       "      <td>0</td>\n",
       "      <td>0</td>\n",
       "      <td>0</td>\n",
       "      <td>0</td>\n",
       "      <td>0</td>\n",
       "      <td>1</td>\n",
       "      <td>0</td>\n",
       "      <td>0</td>\n",
       "      <td>1</td>\n",
       "    </tr>\n",
       "    <tr>\n",
       "      <th>4</th>\n",
       "      <td>5</td>\n",
       "      <td>0.0</td>\n",
       "      <td>791.0</td>\n",
       "      <td>928.0</td>\n",
       "      <td>928</td>\n",
       "      <td>1629</td>\n",
       "      <td>2</td>\n",
       "      <td>6</td>\n",
       "      <td>1</td>\n",
       "      <td>2.0</td>\n",
       "      <td>...</td>\n",
       "      <td>0</td>\n",
       "      <td>0</td>\n",
       "      <td>0</td>\n",
       "      <td>0</td>\n",
       "      <td>0</td>\n",
       "      <td>0</td>\n",
       "      <td>1</td>\n",
       "      <td>0</td>\n",
       "      <td>0</td>\n",
       "      <td>1</td>\n",
       "    </tr>\n",
       "  </tbody>\n",
       "</table>\n",
       "<p>5 rows × 100 columns</p>\n",
       "</div>"
      ],
      "text/plain": [
       "   Overall Qual  Mas Vnr Area  BsmtFin SF 1  Total Bsmt SF  1st Flr SF  \\\n",
       "0             6         112.0         639.0         1080.0        1656   \n",
       "1             5           0.0         468.0          882.0         896   \n",
       "2             6         108.0         923.0         1329.0        1329   \n",
       "3             7           0.0        1065.0         2110.0        2110   \n",
       "4             5           0.0         791.0          928.0         928   \n",
       "\n",
       "   Gr Liv Area  Full Bath  TotRms AbvGrd  Fireplaces  Garage Cars  ...  Maj2  \\\n",
       "0         1656          1              7           2          2.0  ...     0   \n",
       "1          896          1              5           0          1.0  ...     0   \n",
       "2         1329          1              6           0          1.0  ...     0   \n",
       "3         2110          2              8           2          2.0  ...     0   \n",
       "4         1629          2              6           1          2.0  ...     0   \n",
       "\n",
       "   Min1  Min2  Mod  Sal  Sev  Typ  N  P  Y  \n",
       "0     0     0    0    0    0    1  0  1  0  \n",
       "1     0     0    0    0    0    1  0  0  1  \n",
       "2     0     0    0    0    0    1  0  0  1  \n",
       "3     0     0    0    0    0    1  0  0  1  \n",
       "4     0     0    0    0    0    1  0  0  1  \n",
       "\n",
       "[5 rows x 100 columns]"
      ]
     },
     "execution_count": 356,
     "metadata": {},
     "output_type": "execute_result"
    }
   ],
   "source": [
    "ames.head()"
   ]
  },
  {
   "cell_type": "markdown",
   "metadata": {},
   "source": [
    "## 4. Train and Test"
   ]
  },
  {
   "cell_type": "code",
   "execution_count": 373,
   "metadata": {},
   "outputs": [
    {
     "name": "stdout",
     "output_type": "stream",
     "text": [
      "Average RMSE:  28391.457173488492\n"
     ]
    }
   ],
   "source": [
    "target = 'SalePrice'\n",
    "features = ames.drop(columns = target).columns\n",
    "\n",
    "model = LinearRegression()\n",
    "kf = KFold(n_splits = 10, shuffle=True)\n",
    "rmses = []\n",
    "\n",
    "for train_index, test_index in kf.split(ames):\n",
    "    train = ames.iloc[train_index]\n",
    "    test = ames.iloc[test_index]\n",
    "    model.fit(train[features], train[target])\n",
    "    prediction = model.predict(test[features])\n",
    "    rmse = np.sqrt(mean_squared_error(test[target], prediction))\n",
    "    rmses.append(rmse)\n",
    "print('Average RMSE: ', np.mean(rmses))"
   ]
  },
  {
   "cell_type": "markdown",
   "metadata": {},
   "source": [
    "## 5. Combine all the methods and build functions"
   ]
  },
  {
   "cell_type": "code",
   "execution_count": 358,
   "metadata": {},
   "outputs": [],
   "source": [
    "def transform_features(df):\n",
    "    # 1. drop all columns' missing values\n",
    "    df_null = df.isnull().sum()*100/len(df)\n",
    "    df_5pct_null = df_null[df_null > 5]\n",
    "    df.drop(columns = df_5pct_null.index, inplace = True)\n",
    "    \n",
    "    # 2. drop object/text columns witth missing values\n",
    "    df_text_null = df.select_dtypes(include = ['object']).isnull().sum()\n",
    "    df_text_null = df_text_null[df_text_null > 0]\n",
    "    df.drop(columns = df_text_null.index, inplace = True)\n",
    "    \n",
    "    # 3. Replace null in numerical columns with common values\n",
    "    numerical = df.select_dtypes(include = ['int', 'float'])\n",
    "    numerical_null = df.isnull().sum() > 0\n",
    "    numerical_null = numerical_null[numerical_null]\n",
    "    \n",
    "    for col in numerical_null.index:\n",
    "        df[col].fillna(df[col].mode()[0], inplace=True)\n",
    "    \n",
    "    # 4. Create new features and drop original columns\n",
    "    df['years_after_remod'] = df['Yr Sold'] - df['Year Remod/Add']\n",
    "    df.drop(df[df['years_after_remod'] < 0].index, inplace = True)\n",
    "    \n",
    "    df['years_bf_sale'] = df['Yr Sold'] - df['Year Built']\n",
    "    df.drop(df[df['years_bf_sale'] < 0].index, inplace = True)\n",
    "    df.drop(columns=['Year Remod/Add','Year Built', 'Yr Sold'], inplace=True)\n",
    "    \n",
    "    # 5. remove unnescessary columns\n",
    "    df.drop(columns = ['Order', 'PID'], inplace = True)\n",
    "    df.drop(columns = ['Mo Sold', 'Sale Type', 'Sale Condition'], inplace = True)\n",
    "    \n",
    "    return df"
   ]
  },
  {
   "cell_type": "code",
   "execution_count": 359,
   "metadata": {},
   "outputs": [],
   "source": [
    "def select_features(df, min_correlation=0.4, unique_threshold=10):\n",
    "    # 1. select numerical columns with a high corelation to Sale Price \n",
    "    #(drop the columns with correlations are less than the assigned minimum correlation)\n",
    "    numerical_cols = df.select_dtypes(include = ['int', 'float'])\n",
    "    numerical_saleprice_corr = numerical_cols.corr()['SalePrice'].abs().sort_values()\n",
    "    df.drop(columns = numerical_saleprice_corr[numerical_saleprice_corr < min_correlation].index, inplace = True)\n",
    "    \n",
    "    # 2. convert nominal columns to categorical\n",
    "    obj_columns = df.select_dtypes(include = 'object')\n",
    "    obj_col_unique = {}\n",
    "    for col in obj_columns.columns:\n",
    "        unique_vals = df[col].unique()\n",
    "        obj_col_unique[col] = len(unique_vals)\n",
    "\n",
    "    # find and drop the columns with unique values > unique threshold\n",
    "    drop_cols = []\n",
    "    for col, num in obj_col_unique.items():\n",
    "        if num > unique_threshold:\n",
    "            drop_cols.append(col)\n",
    "    df.drop(columns = drop_cols, inplace = True)\n",
    "    \n",
    "    # remove column with low variability\n",
    "    nominal = df.select_dtypes(include = 'object')\n",
    "    nominal_unique_pct = {}\n",
    "    for col in nominal.columns:\n",
    "        nominal_unique_pct[col] = nominal[col].value_counts(normalize=True).values\n",
    "\n",
    "    # Find and drop the columns with less variability or 95% of the values is in a specific category\n",
    "    drop_cols = []\n",
    "    for col, vals in nominal_unique_pct.items():\n",
    "        max_pct = max(vals)\n",
    "        if max_pct > 0.95:\n",
    "            drop_cols.append(col)\n",
    "    df.drop(columns = drop_cols, inplace = True)\n",
    "    \n",
    "    # convert the nominal columns to categorical\n",
    "    nominal_cols = df.select_dtypes(include = 'object')\n",
    "\n",
    "    for col in nominal_cols.columns:\n",
    "        df[col] = df[col].astype('category')\n",
    "\n",
    "    # concatenate the dummy columns back to ames and delete the original columns\n",
    "    for col in nominal_cols.columns:\n",
    "        df = pd.concat([df, pd.get_dummies(df[col])], axis = 1)\n",
    "        del df[col]\n",
    "\n",
    "    return df"
   ]
  },
  {
   "cell_type": "code",
   "execution_count": 360,
   "metadata": {},
   "outputs": [],
   "source": [
    "def train_and_test(df, k=2):\n",
    "    target = 'SalePrice'\n",
    "    features = df.drop(columns = target).columns\n",
    "\n",
    "    model = LinearRegression()\n",
    "    kf = KFold(n_splits = k, shuffle=True)\n",
    "    rmses = []\n",
    "\n",
    "    for train_index, test_index in kf.split(df):\n",
    "        train = df.iloc[train_index]\n",
    "        test = df.iloc[test_index]\n",
    "        model.fit(train[features], train[target])\n",
    "        prediction = model.predict(test[features])\n",
    "        rmse = np.sqrt(mean_squared_error(test[target], prediction))\n",
    "        rmses.append(rmse)\n",
    "    return np.mean(rmses)"
   ]
  },
  {
   "cell_type": "code",
   "execution_count": 369,
   "metadata": {},
   "outputs": [],
   "source": [
    "def plot_rmse(selected_df,label):\n",
    "    rmses = {}\n",
    "    for k in range(2,21):\n",
    "        rmses[k] = train_and_test(selected_df, k)\n",
    "    \n",
    "    x = []\n",
    "    y = []\n",
    "    for k, rmse in rmses.items():\n",
    "        x.append(k)\n",
    "        y.append(rmse)\n",
    "    fig = plt.figure(figsize = (10,5))\n",
    "    plt.plot(x,y, label=label)\n",
    "    plt.xlabel('fold number')\n",
    "    plt.ylabel('RMSE')\n",
    "    plt.xticks(np.arange(1,21,1))\n",
    "    plt.legend()"
   ]
  },
  {
   "cell_type": "code",
   "execution_count": 370,
   "metadata": {},
   "outputs": [
    {
     "data": {
      "image/png": "[encoded data removed]",
      "text/plain": [
       "<Figure size 720x360 with 1 Axes>"
      ]
     },
     "metadata": {
      "needs_background": "light"
     },
     "output_type": "display_data"
    },
    {
     "data": {
      "image/png": "[encoded data removed]",
      "text/plain": [
       "<Figure size 720x360 with 1 Axes>"
      ]
     },
     "metadata": {
      "needs_background": "light"
     },
     "output_type": "display_data"
    },
    {
     "data": {
      "image/png": "[encoded data removed]",
      "text/plain": [
       "<Figure size 720x360 with 1 Axes>"
      ]
     },
     "metadata": {
      "needs_background": "light"
     },
     "output_type": "display_data"
    },
    {
     "data": {
      "image/png": "[encoded data removed]",
      "text/plain": [
       "<Figure size 720x360 with 1 Axes>"
      ]
     },
     "metadata": {
      "needs_background": "light"
     },
     "output_type": "display_data"
    },
    {
     "data": {
      "image/png": "[encoded data removed]",
      "text/plain": [
       "<Figure size 720x360 with 1 Axes>"
      ]
     },
     "metadata": {
      "needs_background": "light"
     },
     "output_type": "display_data"
    }
   ],
   "source": [
    "data = pd.read_csv(\"AmesHousing.tsv\", delimiter=\"\\t\")\n",
    "min_corr = [0.4, 0.5, 0.6, 0.7, 0.8]\n",
    "for mc in min_corr:\n",
    "    df = data.copy()\n",
    "    transforms = transform_features(df)\n",
    "    selected = select_features(transforms, mc, 10)\n",
    "    plot_rmse(selected,'min correlation = {}'.format(mc))"
   ]
  },
  {
   "cell_type": "markdown",
   "metadata": {},
   "source": [
    "The minimum correlation that provides lower values of RMSE ranges is 0.4. The RMSE ranges get higher as we increase the minimum correlation used for the feature selection. Also, for the minimum correlation = 0.4, when we assign the fold number equal to 13, the average RMSE seems to be the lowest (~28672). However, if we divide the dataset to 13 folds, we will have a test set that is ~ 7% of the total dataset. This number appears to be pretty low. Thus, the optimal fold number seems to be 10 since (1) this will provide 90% train and 10% test sets, which is better than dividing the dataset to 13 folds, and (2) the RMSE is relatively low."
   ]
  }
 ],
 "metadata": {
  "anaconda-cloud": {},
  "kernelspec": {
   "display_name": "Python 3",
   "language": "python",
   "name": "python3"
  },
  "language_info": {
   "codemirror_mode": {
    "name": "ipython",
    "version": 3
   },
   "file_extension": ".py",
   "mimetype": "text/x-python",
   "name": "python",
   "nbconvert_exporter": "python",
   "pygments_lexer": "ipython3",
   "version": "3.7.8"
  }
 },
 "nbformat": 4,
 "nbformat_minor": 2
}
